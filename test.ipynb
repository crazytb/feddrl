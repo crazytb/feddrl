{
 "cells": [
  {
   "cell_type": "code",
   "execution_count": 1,
   "metadata": {},
   "outputs": [],
   "source": [
    "class Parent:\n",
    "    def __init__(self, amount):\n",
    "        self.__amount = amount\n",
    "        \n",
    "    @property\n",
    "    def amount(self):\n",
    "        return self.__amount\n",
    "    \n",
    "    @amount.setter\n",
    "    def amount(self, value):\n",
    "        self.__amount = value"
   ]
  },
  {
   "cell_type": "code",
   "execution_count": 12,
   "metadata": {},
   "outputs": [
    {
     "name": "stdout",
     "output_type": "stream",
     "text": [
      "100\n"
     ]
    }
   ],
   "source": [
    "parent = Parent(100)\n",
    "print(parent.amount)"
   ]
  },
  {
   "cell_type": "code",
   "execution_count": 9,
   "metadata": {},
   "outputs": [],
   "source": [
    "class Child():\n",
    "    def __init__(self, \n",
    "                 parent: Parent,\n",
    "                 ):\n",
    "        self.parent = parent\n",
    "    \n",
    "    def consume(self, amount):\n",
    "        self.parent.amount -= amount\n",
    "    \n",
    "    @property    \n",
    "    def parent_amount(self):\n",
    "        return self.parent.amount"
   ]
  },
  {
   "cell_type": "code",
   "execution_count": 13,
   "metadata": {},
   "outputs": [
    {
     "name": "stdout",
     "output_type": "stream",
     "text": [
      "90 90\n",
      "80 80\n",
      "70 70\n",
      "60 60\n",
      "50 50\n",
      "40 40\n",
      "30 30\n",
      "20 20\n",
      "10 10\n",
      "0 0\n"
     ]
    }
   ],
   "source": [
    "childs = [Child(parent) for _ in range(10)]\n",
    "for child in childs:\n",
    "    child.consume(10)\n",
    "    print(child.parent_amount, parent.amount)"
   ]
  }
 ],
 "metadata": {
  "kernelspec": {
   "display_name": "flwr-cert",
   "language": "python",
   "name": "python3"
  },
  "language_info": {
   "codemirror_mode": {
    "name": "ipython",
    "version": 3
   },
   "file_extension": ".py",
   "mimetype": "text/x-python",
   "name": "python",
   "nbconvert_exporter": "python",
   "pygments_lexer": "ipython3",
   "version": "3.11.11"
  }
 },
 "nbformat": 4,
 "nbformat_minor": 2
}
